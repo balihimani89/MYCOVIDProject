{
 "cells": [
  {
   "cell_type": "markdown",
   "metadata": {},
   "source": [
    "# IN SESSION EXERCISE DAY 1 (1 JULY 2019)\n"
   ]
  },
  {
   "cell_type": "code",
   "execution_count": 2,
   "metadata": {},
   "outputs": [
    {
     "name": "stdout",
     "output_type": "stream",
     "text": [
      "CORONA_DATA_FOR_DISTRICT=GWALIOR\n",
      "Infected_on_10_June_2020=12\n",
      "Infected_on_11_June_2020=2\n",
      "Infected_on_12_June_2020=13\n"
     ]
    }
   ],
   "source": [
    "Infected_total_till_date=1234\n",
    "Infected_on_10_June_2020=12\n",
    "Infected_on_11_June_2020=2\n",
    "Infected_on_12_June_2020=13\n",
    "District=\"GWALIOR\"\n",
    "print(\"CORONA_DATA_FOR_DISTRICT={}\".format(District))\n",
    "print(\"Infected_on_10_June_2020={}\".format(Infected_on_10_June_2020))\n",
    "print(\"Infected_on_11_June_2020={}\".format(Infected_on_11_June_2020))\n",
    "print(\"Infected_on_12_June_2020={}\".format(Infected_on_12_June_2020))\n"
   ]
  },
  {
   "cell_type": "code",
   "execution_count": 9,
   "metadata": {},
   "outputs": [
    {
     "name": "stdout",
     "output_type": "stream",
     "text": [
      "Change_10_June_11_June_2020=-10\n",
      "Change_11_June_12_June_2020=11\n",
      "Total_Change_Before_10_June_to_12_June_2020=27\n"
     ]
    }
   ],
   "source": [
    "Change_10_June_11_June_2020=Infected_on_11_June_2020-Infected_on_10_June_2020\n",
    "Change_11_June_12_June_2020=Infected_on_12_June_2020-Infected_on_11_June_2020\n",
    "print(\"Change_10_June_11_June_2020={}\".format(Change_10_June_11_June_2020))\n",
    "print(\"Change_11_June_12_June_2020={}\".format(Change_11_June_12_June_2020))\n",
    "Total_Change_Before_10_June_to_12_June_2020=(Infected_total_till_date+Infected_on_10_June_2020+Infected_on_11_June_2020+Infected_on_12_June_2020)-Infected_total_till_date\n",
    "print(\"Total_Change_Before_10_June_to_12_June_2020={}\".format(Total_Change_Before_10_June_to_12_June_2020))"
   ]
  },
  {
   "cell_type": "code",
   "execution_count": 12,
   "metadata": {},
   "outputs": [
    {
     "name": "stdout",
     "output_type": "stream",
     "text": [
      "Percentage_Change_10_June_11_June_2020 is -83.33333333333334\n",
      "Percentage_Change_11_June_12_June_2020 is 550.0\n",
      "Percentage_Total_Change_Before_10_June_to_12_June_2020 is 2.188006482982172\n"
     ]
    }
   ],
   "source": [
    "Percentage_Change_10_June_11_June_2020=((Change_10_June_11_June_2020)/(Infected_on_10_June_2020)*100)\n",
    "print(\"Percentage_Change_10_June_11_June_2020 is {}\".format(Percentage_Change_10_June_11_June_2020))\n",
    "Percentage_Change_11_June_12_June_2020=((Change_11_June_12_June_2020)/(Infected_on_11_June_2020)*100)\n",
    "print(\"Percentage_Change_11_June_12_June_2020 is {}\".format(Percentage_Change_11_June_12_June_2020))\n",
    "Percentage_Total_Change_Before_10_June_to_12_June_2020=((Total_Change_Before_10_June_to_12_June_2020)/(Infected_total_till_date)*100)\n",
    "print(\"Percentage_Total_Change_Before_10_June_to_12_June_2020 is {}\".format(Percentage_Total_Change_Before_10_June_to_12_June_2020))"
   ]
  },
  {
   "cell_type": "code",
   "execution_count": null,
   "metadata": {},
   "outputs": [],
   "source": []
  }
 ],
 "metadata": {
  "kernelspec": {
   "display_name": "Python 3",
   "language": "python",
   "name": "python3"
  },
  "language_info": {
   "codemirror_mode": {
    "name": "ipython",
    "version": 3
   },
   "file_extension": ".py",
   "mimetype": "text/x-python",
   "name": "python",
   "nbconvert_exporter": "python",
   "pygments_lexer": "ipython3",
   "version": "3.7.3"
  }
 },
 "nbformat": 4,
 "nbformat_minor": 4
}
